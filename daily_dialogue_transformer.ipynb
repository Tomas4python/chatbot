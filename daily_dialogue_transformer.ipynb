{
 "cells": [
  {
   "cell_type": "markdown",
   "id": "90199c4d-e447-46b3-9c7a-e633a3c02f09",
   "metadata": {},
   "source": [
    "# TRANSFORMER SIMPLE MODEL"
   ]
  },
  {
   "cell_type": "markdown",
   "id": "c14260f0-4962-42e2-8527-f5189a158c76",
   "metadata": {
    "id": "b0ZiOK0MWE7d"
   },
   "source": [
    "## GPU info"
   ]
  },
  {
   "cell_type": "code",
   "execution_count": 1,
   "id": "63f70056-2151-4051-8974-714b3e237e43",
   "metadata": {
    "colab": {
     "base_uri": "https://localhost:8080/"
    },
    "executionInfo": {
     "elapsed": 420,
     "status": "ok",
     "timestamp": 1715927490489,
     "user": {
      "displayName": "Tomas Suslavicius",
      "userId": "14151871739646404131"
     },
     "user_tz": -180
    },
    "id": "bhvFI7ztVLRy",
    "outputId": "e4fb02b2-7ebf-4f3e-b2a8-f9f189a25c47"
   },
   "outputs": [],
   "source": [
    "# gpu_info = !nvidia-smi\n",
    "# gpu_info = '\\n'.join(gpu_info)\n",
    "# if gpu_info.find('failed') >= 0:\n",
    "#   print('Not connected to a GPU')\n",
    "# else:\n",
    "#   print(gpu_info)"
   ]
  },
  {
   "cell_type": "code",
   "execution_count": 2,
   "id": "79a58ec6-07dc-4261-ae09-67ab59ed3fb6",
   "metadata": {
    "colab": {
     "base_uri": "https://localhost:8080/"
    },
    "executionInfo": {
     "elapsed": 23496,
     "status": "ok",
     "timestamp": 1715927517410,
     "user": {
      "displayName": "Tomas Suslavicius",
      "userId": "14151871739646404131"
     },
     "user_tz": -180
    },
    "id": "RMth1TfbAys6",
    "outputId": "766cb4f5-edfa-4cd7-ad09-825604e4c786"
   },
   "outputs": [],
   "source": [
    "# from google.colab import drive\n",
    "# drive.mount('/content/drive')"
   ]
  },
  {
   "cell_type": "code",
   "execution_count": 3,
   "id": "e2d5d74b-5e87-4198-b112-9f91b7f65d0f",
   "metadata": {
    "colab": {
     "base_uri": "https://localhost:8080/"
    },
    "executionInfo": {
     "elapsed": 4075,
     "status": "ok",
     "timestamp": 1715927650106,
     "user": {
      "displayName": "Tomas Suslavicius",
      "userId": "14151871739646404131"
     },
     "user_tz": -180
    },
    "id": "db509470-cb51-4c21-84ca-5f928073d68e",
    "outputId": "95b90920-4333-45db-f52c-0f88f1ec6a5e"
   },
   "outputs": [
    {
     "name": "stdout",
     "output_type": "stream",
     "text": [
      "Device Name: /device:GPU:0\n",
      "Memory Limit: 4158652416 bytes\n",
      "Description: device: 0, name: NVIDIA GeForce GTX 1660 Ti with Max-Q Design, pci bus id: 0000:01:00.0, compute capability: 7.5\n"
     ]
    }
   ],
   "source": [
    "# Check if GPU is available\n",
    "from tensorflow.python.client import device_lib\n",
    "\n",
    "def get_gpu_details():\n",
    "    devices = device_lib.list_local_devices()\n",
    "    for device in devices:\n",
    "        if device.device_type == 'GPU':\n",
    "            print(f\"Device Name: {device.name}\")\n",
    "            print(f\"Memory Limit: {device.memory_limit} bytes\")\n",
    "            print(f\"Description: {device.physical_device_desc}\")\n",
    "\n",
    "get_gpu_details()\n"
   ]
  },
  {
   "cell_type": "markdown",
   "id": "0510248e-c233-485a-b707-7a7eb9856939",
   "metadata": {},
   "source": [
    "### Config"
   ]
  },
  {
   "cell_type": "code",
   "execution_count": 4,
   "id": "35a59de0-817a-4089-9a14-0b45925b6298",
   "metadata": {},
   "outputs": [],
   "source": [
    "max_length = 15 # Length of input and target sequences, padding"
   ]
  },
  {
   "cell_type": "markdown",
   "id": "c27c8162-54ab-45da-b4f0-2d5472decdd8",
   "metadata": {},
   "source": [
    "### Import libraries"
   ]
  },
  {
   "cell_type": "code",
   "execution_count": 5,
   "id": "3e231807-af60-4571-be49-655d80d8eda1",
   "metadata": {},
   "outputs": [],
   "source": [
    "import os\n",
    "\n",
    "import numpy as np\n",
    "import pandas as pd\n",
    "import matplotlib.pyplot as plt\n",
    "from typing import List, Tuple, Dict\n",
    "\n",
    "import re\n",
    "import string\n",
    "import unicodedata\n",
    "import nltk\n",
    "import spacy\n",
    "from nltk.tokenize import word_tokenize\n",
    "from nltk.corpus import stopwords\n",
    "from nltk.stem import WordNetLemmatizer\n",
    "from tensorflow.keras.preprocessing.sequence import pad_sequences\n",
    "from tensorflow.keras.regularizers import l2\n",
    "\n",
    "import numpy as np\n",
    "import pandas as pd\n",
    "from tensorflow.keras.models import Model, load_model\n",
    "from tensorflow.keras.layers import Input, Embedding, MultiHeadAttention, Dense, LayerNormalization, Dropout, GlobalAveragePooling1D, Layer, Masking\n",
    "from tensorflow.keras.preprocessing.text import Tokenizer\n",
    "from tensorflow.keras.preprocessing.sequence import pad_sequences\n",
    "from tensorflow.keras.optimizers import Adam\n",
    "from tensorflow.keras.callbacks import ModelCheckpoint\n",
    "import tensorflow as tf\n",
    "\n",
    "import pickle\n"
   ]
  },
  {
   "cell_type": "code",
   "execution_count": 6,
   "id": "38b3db57-2ac6-4c1d-b610-3de8e89d3352",
   "metadata": {},
   "outputs": [
    {
     "name": "stdout",
     "output_type": "stream",
     "text": [
      "TensorFlow version: 2.10.0\n",
      "TensorFlow Keras version: 2.10.0\n"
     ]
    }
   ],
   "source": [
    "print(\"TensorFlow version:\", tf.__version__)\n",
    "print(\"TensorFlow Keras version:\", tf.keras.__version__)"
   ]
  },
  {
   "cell_type": "code",
   "execution_count": 7,
   "id": "e56f5d37-9a67-4e51-b0b8-404df9d734a0",
   "metadata": {
    "colab": {
     "base_uri": "https://localhost:8080/"
    },
    "executionInfo": {
     "elapsed": 231,
     "status": "ok",
     "timestamp": 1715930801381,
     "user": {
      "displayName": "Tomas Suslavicius",
      "userId": "14151871739646404131"
     },
     "user_tz": -180
    },
    "id": "y5srV6bjOpFb",
    "outputId": "b74db1e8-1afe-4348-be1a-23c150492567"
   },
   "outputs": [
    {
     "name": "stderr",
     "output_type": "stream",
     "text": [
      "[nltk_data] Downloading package punkt to\n",
      "[nltk_data]     C:\\Users\\tomui\\AppData\\Roaming\\nltk_data...\n",
      "[nltk_data]   Package punkt is already up-to-date!\n",
      "[nltk_data] Downloading package wordnet to\n",
      "[nltk_data]     C:\\Users\\tomui\\AppData\\Roaming\\nltk_data...\n",
      "[nltk_data]   Package wordnet is already up-to-date!\n",
      "[nltk_data] Downloading package stopwords to\n",
      "[nltk_data]     C:\\Users\\tomui\\AppData\\Roaming\\nltk_data...\n",
      "[nltk_data]   Package stopwords is already up-to-date!\n",
      "[nltk_data] Downloading package omw-1.4 to\n",
      "[nltk_data]     C:\\Users\\tomui\\AppData\\Roaming\\nltk_data...\n",
      "[nltk_data]   Package omw-1.4 is already up-to-date!\n"
     ]
    }
   ],
   "source": [
    "# Download necessary NLTK resources\n",
    "nltk.download('punkt')  # Tokenizer\n",
    "nltk.download('wordnet')  # Lemmatizer\n",
    "nltk.download('stopwords')  # Stopwords\n",
    "nltk.download('omw-1.4') # Ensures multilingual contexts\n",
    "\n",
    "# Stopwords list\n",
    "stop_words = set(stopwords.words('english'))\n",
    "\n",
    "# Initialize the lemmatizer\n",
    "lemmatizer = WordNetLemmatizer()\n",
    "\n",
    "initial_preprocessing = True\n",
    "\n",
    "# Load spaCy's English NLP model\n",
    "nlp = spacy.load('en_core_web_sm')"
   ]
  },
  {
   "cell_type": "markdown",
   "id": "b393a656-df75-4deb-af28-d8ba36f526eb",
   "metadata": {
    "id": "f5150d2f-999d-45ad-b2f2-b9b65b883e89"
   },
   "source": [
    "## Create prepocessing functions for initial text and later response generation preprocessing"
   ]
  },
  {
   "cell_type": "code",
   "execution_count": 8,
   "id": "75edfc9e-3560-4ab7-9992-963b8df9f537",
   "metadata": {
    "executionInfo": {
     "elapsed": 238,
     "status": "ok",
     "timestamp": 1715930818326,
     "user": {
      "displayName": "Tomas Suslavicius",
      "userId": "14151871739646404131"
     },
     "user_tz": -180
    },
    "id": "f0e8f237-5274-43ee-8ac2-964dd9214ae5"
   },
   "outputs": [],
   "source": [
    "contractions = {\n",
    "    \"’\": \"'\",\n",
    "    \"‘\": \"'\",\n",
    "    \"“\": '\"',\n",
    "    \"”\": '\"',\n",
    "    \"can't\": \"cannot\",\n",
    "    \"won't\": \"will not\",\n",
    "    \"n't\": \" not\",\n",
    "    \"i'm\": \"i am\",\n",
    "    \"i'd\": \"i would\",\n",
    "    \"thats's\": \"that is\",\n",
    "    \"it's\": \"it is\",\n",
    "    \"he's\": \"he is\",\n",
    "    \"she's\": \"she is\",\n",
    "    \"you're\": \"you are\",\n",
    "    \"they're\": \"they are\",\n",
    "    \"we're\": \"we are\",\n",
    "    \"i've\": \"i have\",\n",
    "    \"you've\": \"you have\",\n",
    "    \"they've\": \"they have\",\n",
    "    \"we've\": \"we have\",\n",
    "    \"isn't\": \"is not\",\n",
    "    \"aren't\": \"are not\",\n",
    "    \"wasn't\": \"was not\",\n",
    "    \"weren't\": \"were not\",\n",
    "    \"doesn't\": \"does not\",\n",
    "    \"don't\": \"do not\",\n",
    "    \"didn't\": \"did not\",\n",
    "    \"hasn't\": \"has not\",\n",
    "    \"haven't\": \"have not\",\n",
    "    \"hadn't\": \"had not\",\n",
    "    \"i'll\": \"i will\",\n",
    "    \"you'll\": \"you will\",\n",
    "    \"he'll\": \"he will\",\n",
    "    \"she'll\": \"she will\",\n",
    "    \"we'll\": \"we will\",\n",
    "    \"they'll\": \"they will\",\n",
    "    \"wouldn't\": \"would not\",\n",
    "    \"shouldn't\": \"should not\",\n",
    "    \"couldn't\": \"could not\",\n",
    "    \"mightn't\": \"might not\",\n",
    "    \"mustn't\": \"must not\",\n",
    "    \"she'd\": \"she would\",\n",
    "    \"he'd\": \"he would\",\n",
    "    \"they'd\": \"they would\",\n",
    "    \"we'd\": \"we would\",\n",
    "    \"that'll\": \"that will\",\n",
    "    \"there'll\": \"there will\",\n",
    "    \"who'll\": \"who will\",\n",
    "    \"it'll\": \"it will\",\n",
    "    \"that'd\": \"that would\",\n",
    "    \"there'd\": \"there would\",\n",
    "    \"who'd\": \"who would\",\n",
    "    \"when's\": \"when is\",\n",
    "    \"where's\": \"where is\",\n",
    "    \"why's\": \"why is\",\n",
    "    \"how's\": \"how is\",\n",
    "    \"y'all\": \"you all\",\n",
    "    \"let's\": \"let us\",\n",
    "    \"ma'am\": \"madam\",\n",
    "    \"o'clock\": \"of the clock\",\n",
    "    \"ain't\": \"is not\",\n",
    "    \"could've\": \"could have\",\n",
    "    \"should've\": \"should have\",\n",
    "    \"would've\": \"would have\",\n",
    "    \"might've\": \"might have\",\n",
    "    \"must've\": \"must have\",\n",
    "    \"who've\": \"who have\",\n",
    "    \"oughtn't\": \"ought not\",\n",
    "    \"daren't\": \"dare not\",\n",
    "    \"needn't\": \"need not\",\n",
    "    \"what's\": \"what is\",\n",
    "    \"usedn't\": \"used not\"\n",
    "}\n",
    "\n",
    "def normalize_text(text: str) -> str:\n",
    "    # Normalize Unicode string to NFKD form, remove non-ASCII characters, and then decode it back to a UTF-8 string\n",
    "    text = unicodedata.normalize('NFKD', text).encode('ascii', 'ignore').decode('utf-8')\n",
    "    # Convert to lowercase\n",
    "    text = text.lower()\n",
    "    # Remove spaces around apostrophes\n",
    "    text = re.sub(r\"\\s*'\\s*\", \"'\", text)\n",
    "    # Add a space before and after any punctuation mark (., !, or ?)\n",
    "    text = re.sub(r\"\\s*([.!?])\\s*\", r\" \\1 \", text)\n",
    "    # Correct contractions\n",
    "    for contraction, replacement in contractions.items():\n",
    "        text = re.sub(re.escape(contraction), replacement, text)\n",
    "    # Replace any sequence of characters that are not letters, basic punctuation\n",
    "    text = re.sub(r\"[^a-z' ]\", ' ', text) # re.sub(r\"[^a-z.,'!? ]\", ' ', text)\n",
    "    # Replace any sequence of whitespace characters with a single space and remove leading and trailing whitespace\n",
    "    text = re.sub(r\"\\s+\", ' ', text).strip()\n",
    "    return text\n",
    "\n",
    "def remove_names(text: str) -> str:\n",
    "    # Use spaCy to detect and remove names from the text\n",
    "    doc = nlp(text)\n",
    "    filtered_text = ' '.join([token.text for token in doc if token.ent_type_ != 'PERSON']) # Takes really long time, exlude from chatbot input preprocessing\n",
    "    return filtered_text\n",
    "\n",
    "def preprocess_text(text: str) -> str:\n",
    "    # Normalize text\n",
    "    text = normalize_text(text)\n",
    "    # Remove names using spaCy's NER\n",
    "    if initial_preprocessing:\n",
    "        text = remove_names(text)\n",
    "    # # Remove punctuation\n",
    "    # text = text.translate(str.maketrans('', '', string.punctuation))\n",
    "    # Remove stopwords and tokenize\n",
    "    # words = word_tokenize(text) # More intelligent splitting\n",
    "    # filtered_words = [word for word in words if word not in stop_words]\n",
    "    # # Lemmatize words\n",
    "    # lemmatized_words = [lemmatizer.lemmatize(word) for word in filtered_words]\n",
    "    # Add <SOS> and <EOS> tokens, and join the list into a single string\n",
    "    # return ' '.join(['sofs'] + lemmatized_words + ['eofs'])\n",
    "        # Trim the text to the desired length\n",
    "    words = text.split()[:max_length]\n",
    "    trimmed_text = ' '.join(words)  # Consider to remove trimming, if you want pad later on max length\n",
    "    return trimmed_text"
   ]
  },
  {
   "cell_type": "markdown",
   "id": "f5deb6d2-695b-4025-b6b1-72428d051053",
   "metadata": {},
   "source": [
    "### Load the Tokenizer"
   ]
  },
  {
   "cell_type": "code",
   "execution_count": 9,
   "id": "b5428c87-4ce6-480a-bb32-48f7a6063e9a",
   "metadata": {},
   "outputs": [],
   "source": [
    "# Load the tokenizer from file\n",
    "data_dir = os.path.join(os.getcwd(), 'data')\n",
    "tokenizer_path = os.path.join(data_dir, 'tokenizer_dd_tf210.pickle')\n",
    "with open(tokenizer_path, 'rb') as handle:\n",
    "    tokenizer = pickle.load(handle)"
   ]
  },
  {
   "cell_type": "markdown",
   "id": "57e0ec68-2723-436d-a101-ad18df9f0a63",
   "metadata": {},
   "source": [
    "### Loading the DataFrame"
   ]
  },
  {
   "cell_type": "code",
   "execution_count": 10,
   "id": "d8036e60-f3a3-4beb-9f96-da6496797413",
   "metadata": {
    "tags": []
   },
   "outputs": [
    {
     "data": {
      "text/html": [
       "<div>\n",
       "<style scoped>\n",
       "    .dataframe tbody tr th:only-of-type {\n",
       "        vertical-align: middle;\n",
       "    }\n",
       "\n",
       "    .dataframe tbody tr th {\n",
       "        vertical-align: top;\n",
       "    }\n",
       "\n",
       "    .dataframe thead th {\n",
       "        text-align: right;\n",
       "    }\n",
       "</style>\n",
       "<table border=\"1\" class=\"dataframe\">\n",
       "  <thead>\n",
       "    <tr style=\"text-align: right;\">\n",
       "      <th></th>\n",
       "      <th>input</th>\n",
       "      <th>response</th>\n",
       "      <th>encoder_input_data</th>\n",
       "      <th>decoder_input_data</th>\n",
       "      <th>decoder_output_data</th>\n",
       "    </tr>\n",
       "  </thead>\n",
       "  <tbody>\n",
       "    <tr>\n",
       "      <th>0</th>\n",
       "      <td>say how about going for a few beers after dinner</td>\n",
       "      <td>you know that is tempting but is really not go...</td>\n",
       "      <td>[0, 0, 0, 0, 0, 138, 33, 37, 75, 20, 8, 206, 3...</td>\n",
       "      <td>[0, 0, 1, 5, 46, 11, 9, 3717, 29, 9, 60, 15, 4...</td>\n",
       "      <td>[0, 0, 5, 46, 11, 9, 3717, 29, 9, 60, 15, 47, ...</td>\n",
       "    </tr>\n",
       "    <tr>\n",
       "      <th>1</th>\n",
       "      <td>you know that is tempting but is really not go...</td>\n",
       "      <td>what do you mean it will help us to relax</td>\n",
       "      <td>[0, 0, 5, 46, 11, 9, 3717, 29, 9, 60, 15, 47, ...</td>\n",
       "      <td>[0, 0, 0, 0, 0, 1, 18, 13, 5, 161, 10, 23, 101...</td>\n",
       "      <td>[0, 0, 0, 0, 0, 18, 13, 5, 161, 10, 23, 101, 9...</td>\n",
       "    </tr>\n",
       "    <tr>\n",
       "      <th>2</th>\n",
       "      <td>what do you mean it will help us to relax</td>\n",
       "      <td>do you really think so i do not it will just m...</td>\n",
       "      <td>[0, 0, 0, 0, 0, 18, 13, 5, 161, 10, 23, 101, 9...</td>\n",
       "      <td>[1, 13, 5, 60, 43, 36, 4, 13, 15, 10, 23, 48, ...</td>\n",
       "      <td>[13, 5, 60, 43, 36, 4, 13, 15, 10, 23, 48, 102...</td>\n",
       "    </tr>\n",
       "    <tr>\n",
       "      <th>3</th>\n",
       "      <td>do you really think so i do not it will just m...</td>\n",
       "      <td>i guess you are right but what shall we do i d...</td>\n",
       "      <td>[13, 5, 60, 43, 36, 4, 13, 15, 10, 23, 48, 102...</td>\n",
       "      <td>[1, 4, 226, 5, 17, 53, 29, 18, 325, 22, 13, 4,...</td>\n",
       "      <td>[4, 226, 5, 17, 53, 29, 18, 325, 22, 13, 4, 13...</td>\n",
       "    </tr>\n",
       "    <tr>\n",
       "      <th>4</th>\n",
       "      <td>i guess you are right but what shall we do i d...</td>\n",
       "      <td>i suggest a walk over to the gym where we can ...</td>\n",
       "      <td>[4, 226, 5, 17, 53, 29, 18, 325, 22, 13, 4, 13...</td>\n",
       "      <td>[1, 4, 593, 8, 423, 140, 7, 6, 973, 105, 22, 2...</td>\n",
       "      <td>[4, 593, 8, 423, 140, 7, 6, 973, 105, 22, 21, ...</td>\n",
       "    </tr>\n",
       "    <tr>\n",
       "      <th>5</th>\n",
       "      <td>i suggest a walk over to the gym where we can ...</td>\n",
       "      <td>that 's a good idea i hear mary and sally ofte...</td>\n",
       "      <td>[4, 593, 8, 423, 140, 7, 6, 973, 105, 22, 21, ...</td>\n",
       "      <td>[1, 11, 38, 8, 47, 179, 4, 237, 441, 14, 3323,...</td>\n",
       "      <td>[11, 38, 8, 47, 179, 4, 237, 441, 14, 3323, 30...</td>\n",
       "    </tr>\n",
       "    <tr>\n",
       "      <th>6</th>\n",
       "      <td>that 's a good idea i hear mary and sally ofte...</td>\n",
       "      <td>sounds great to me if they are willing we coul...</td>\n",
       "      <td>[11, 38, 8, 47, 179, 4, 237, 441, 14, 3323, 30...</td>\n",
       "      <td>[1, 154, 99, 7, 26, 57, 54, 17, 1083, 22, 79, ...</td>\n",
       "      <td>[154, 99, 7, 26, 57, 54, 17, 1083, 22, 79, 200...</td>\n",
       "    </tr>\n",
       "    <tr>\n",
       "      <th>7</th>\n",
       "      <td>sounds great to me if they are willing we coul...</td>\n",
       "      <td>good let us go now</td>\n",
       "      <td>[154, 99, 7, 26, 57, 54, 17, 1083, 22, 79, 200...</td>\n",
       "      <td>[0, 0, 0, 0, 0, 0, 0, 0, 0, 0, 1, 47, 74, 93, ...</td>\n",
       "      <td>[0, 0, 0, 0, 0, 0, 0, 0, 0, 0, 47, 74, 93, 59,...</td>\n",
       "    </tr>\n",
       "    <tr>\n",
       "      <th>8</th>\n",
       "      <td>good let us go now</td>\n",
       "      <td>all right</td>\n",
       "      <td>[0, 0, 0, 0, 0, 0, 0, 0, 0, 0, 47, 74, 93, 59,...</td>\n",
       "      <td>[0, 0, 0, 0, 0, 0, 0, 0, 0, 0, 0, 0, 0, 1, 50,...</td>\n",
       "      <td>[0, 0, 0, 0, 0, 0, 0, 0, 0, 0, 0, 0, 0, 50, 53...</td>\n",
       "    </tr>\n",
       "    <tr>\n",
       "      <th>9</th>\n",
       "      <td>can you do push ups</td>\n",
       "      <td>of course i can it is a piece of cake believe ...</td>\n",
       "      <td>[0, 0, 0, 0, 0, 0, 0, 0, 0, 0, 21, 5, 13, 1635...</td>\n",
       "      <td>[1, 16, 125, 4, 21, 10, 9, 8, 773, 16, 899, 25...</td>\n",
       "      <td>[16, 125, 4, 21, 10, 9, 8, 773, 16, 899, 254, ...</td>\n",
       "    </tr>\n",
       "  </tbody>\n",
       "</table>\n",
       "</div>"
      ],
      "text/plain": [
       "                                               input  \\\n",
       "0   say how about going for a few beers after dinner   \n",
       "1  you know that is tempting but is really not go...   \n",
       "2          what do you mean it will help us to relax   \n",
       "3  do you really think so i do not it will just m...   \n",
       "4  i guess you are right but what shall we do i d...   \n",
       "5  i suggest a walk over to the gym where we can ...   \n",
       "6  that 's a good idea i hear mary and sally ofte...   \n",
       "7  sounds great to me if they are willing we coul...   \n",
       "8                                 good let us go now   \n",
       "9                                can you do push ups   \n",
       "\n",
       "                                            response  \\\n",
       "0  you know that is tempting but is really not go...   \n",
       "1          what do you mean it will help us to relax   \n",
       "2  do you really think so i do not it will just m...   \n",
       "3  i guess you are right but what shall we do i d...   \n",
       "4  i suggest a walk over to the gym where we can ...   \n",
       "5  that 's a good idea i hear mary and sally ofte...   \n",
       "6  sounds great to me if they are willing we coul...   \n",
       "7                                 good let us go now   \n",
       "8                                          all right   \n",
       "9  of course i can it is a piece of cake believe ...   \n",
       "\n",
       "                                  encoder_input_data  \\\n",
       "0  [0, 0, 0, 0, 0, 138, 33, 37, 75, 20, 8, 206, 3...   \n",
       "1  [0, 0, 5, 46, 11, 9, 3717, 29, 9, 60, 15, 47, ...   \n",
       "2  [0, 0, 0, 0, 0, 18, 13, 5, 161, 10, 23, 101, 9...   \n",
       "3  [13, 5, 60, 43, 36, 4, 13, 15, 10, 23, 48, 102...   \n",
       "4  [4, 226, 5, 17, 53, 29, 18, 325, 22, 13, 4, 13...   \n",
       "5  [4, 593, 8, 423, 140, 7, 6, 973, 105, 22, 21, ...   \n",
       "6  [11, 38, 8, 47, 179, 4, 237, 441, 14, 3323, 30...   \n",
       "7  [154, 99, 7, 26, 57, 54, 17, 1083, 22, 79, 200...   \n",
       "8  [0, 0, 0, 0, 0, 0, 0, 0, 0, 0, 47, 74, 93, 59,...   \n",
       "9  [0, 0, 0, 0, 0, 0, 0, 0, 0, 0, 21, 5, 13, 1635...   \n",
       "\n",
       "                                  decoder_input_data  \\\n",
       "0  [0, 0, 1, 5, 46, 11, 9, 3717, 29, 9, 60, 15, 4...   \n",
       "1  [0, 0, 0, 0, 0, 1, 18, 13, 5, 161, 10, 23, 101...   \n",
       "2  [1, 13, 5, 60, 43, 36, 4, 13, 15, 10, 23, 48, ...   \n",
       "3  [1, 4, 226, 5, 17, 53, 29, 18, 325, 22, 13, 4,...   \n",
       "4  [1, 4, 593, 8, 423, 140, 7, 6, 973, 105, 22, 2...   \n",
       "5  [1, 11, 38, 8, 47, 179, 4, 237, 441, 14, 3323,...   \n",
       "6  [1, 154, 99, 7, 26, 57, 54, 17, 1083, 22, 79, ...   \n",
       "7  [0, 0, 0, 0, 0, 0, 0, 0, 0, 0, 1, 47, 74, 93, ...   \n",
       "8  [0, 0, 0, 0, 0, 0, 0, 0, 0, 0, 0, 0, 0, 1, 50,...   \n",
       "9  [1, 16, 125, 4, 21, 10, 9, 8, 773, 16, 899, 25...   \n",
       "\n",
       "                                 decoder_output_data  \n",
       "0  [0, 0, 5, 46, 11, 9, 3717, 29, 9, 60, 15, 47, ...  \n",
       "1  [0, 0, 0, 0, 0, 18, 13, 5, 161, 10, 23, 101, 9...  \n",
       "2  [13, 5, 60, 43, 36, 4, 13, 15, 10, 23, 48, 102...  \n",
       "3  [4, 226, 5, 17, 53, 29, 18, 325, 22, 13, 4, 13...  \n",
       "4  [4, 593, 8, 423, 140, 7, 6, 973, 105, 22, 21, ...  \n",
       "5  [11, 38, 8, 47, 179, 4, 237, 441, 14, 3323, 30...  \n",
       "6  [154, 99, 7, 26, 57, 54, 17, 1083, 22, 79, 200...  \n",
       "7  [0, 0, 0, 0, 0, 0, 0, 0, 0, 0, 47, 74, 93, 59,...  \n",
       "8  [0, 0, 0, 0, 0, 0, 0, 0, 0, 0, 0, 0, 0, 50, 53...  \n",
       "9  [16, 125, 4, 21, 10, 9, 8, 773, 16, 899, 254, ...  "
      ]
     },
     "execution_count": 10,
     "metadata": {},
     "output_type": "execute_result"
    }
   ],
   "source": [
    "# Loading the DataFrame\n",
    "data_dir = os.path.join(os.getcwd(), 'data')\n",
    "file_path_parquet = os.path.join(data_dir, 'training_df_dd_tf210.parquet')\n",
    "training_data_final = pd.read_parquet(file_path_parquet)\n",
    "\n",
    "training_data_final.head(10)"
   ]
  },
  {
   "cell_type": "code",
   "execution_count": 11,
   "id": "ad6aab19-4df8-461d-9dc1-393d1157a83e",
   "metadata": {},
   "outputs": [
    {
     "name": "stdout",
     "output_type": "stream",
     "text": [
      "15384\n",
      "10000\n"
     ]
    }
   ],
   "source": [
    "print(len(tokenizer.word_index))\n",
    "print(tokenizer.num_words)"
   ]
  },
  {
   "cell_type": "markdown",
   "id": "7a3fbffc-0d50-455a-8d1a-2608dad745e3",
   "metadata": {},
   "source": [
    "### Set the Data"
   ]
  },
  {
   "cell_type": "code",
   "execution_count": 12,
   "id": "39ff9d2f-e6b8-4c47-aeb5-5af9071ad308",
   "metadata": {},
   "outputs": [
    {
     "name": "stdout",
     "output_type": "stream",
     "text": [
      "<class 'numpy.ndarray'>\n",
      "(89861, 15)\n",
      "(89861, 16)\n",
      "(89861, 16)\n"
     ]
    },
    {
     "data": {
      "text/plain": [
       "dtype('int64')"
      ]
     },
     "execution_count": 12,
     "metadata": {},
     "output_type": "execute_result"
    }
   ],
   "source": [
    "encoder_input_data = np.array(training_data_final['encoder_input_data'].tolist())\n",
    "decoder_input_data = np.array(training_data_final['decoder_input_data'].tolist())\n",
    "decoder_output_data = np.array(training_data_final['decoder_output_data'].tolist())\n",
    "print(type(encoder_input_data))\n",
    "print(encoder_input_data.shape)\n",
    "print(decoder_input_data.shape)\n",
    "print(decoder_output_data.shape)\n",
    "encoder_input_data.dtype"
   ]
  },
  {
   "cell_type": "code",
   "execution_count": 13,
   "id": "4757a0c5-f8c6-4aa5-b851-f6f6a86ebe33",
   "metadata": {},
   "outputs": [
    {
     "data": {
      "text/plain": [
       "dtype('int32')"
      ]
     },
     "execution_count": 13,
     "metadata": {},
     "output_type": "execute_result"
    }
   ],
   "source": [
    "encoder_input_data = encoder_input_data.astype('int32')\n",
    "decoder_input_data = decoder_input_data.astype('int32')\n",
    "decoder_output_data = decoder_output_data.astype('int32')\n",
    "encoder_input_data.dtype"
   ]
  },
  {
   "cell_type": "markdown",
   "id": "076347eb-91fb-4830-a259-27e6241faa67",
   "metadata": {},
   "source": [
    "### Define the Model"
   ]
  },
  {
   "cell_type": "code",
   "execution_count": 14,
   "id": "0079486d-cb46-4e5d-a6aa-07a3130e7a4e",
   "metadata": {},
   "outputs": [],
   "source": [
    "# Define Transformer Encoder\n",
    "class TransformerEncoder(Layer):\n",
    "    def __init__(self, embed_dim, num_heads, ff_dim, rate=0.1):\n",
    "        super(TransformerEncoder, self).__init__()\n",
    "        self.att = MultiHeadAttention(num_heads=num_heads, key_dim=embed_dim)\n",
    "        self.ffn = tf.keras.Sequential([\n",
    "            Dense(ff_dim, activation='relu'), \n",
    "            Dense(embed_dim)\n",
    "        ])\n",
    "        self.layernorm1 = LayerNormalization(epsilon=1e-6)\n",
    "        self.layernorm2 = LayerNormalization(epsilon=1e-6)\n",
    "        self.dropout1 = Dropout(rate)\n",
    "        self.dropout2 = Dropout(rate)\n",
    "\n",
    "    def call(self, inputs, training=False, mask=None):\n",
    "        attn_output = self.att(inputs, inputs, attention_mask=mask)\n",
    "        attn_output = self.dropout1(attn_output, training=training)\n",
    "        out1 = self.layernorm1(inputs + attn_output)\n",
    "        ffn_output = self.ffn(out1)\n",
    "        ffn_output = self.dropout2(ffn_output, training=training)\n",
    "        return self.layernorm2(out1 + ffn_output)\n",
    "\n",
    "# Define Transformer Decoder\n",
    "class TransformerDecoder(Layer):\n",
    "    def __init__(self, embed_dim, num_heads, ff_dim, rate=0.1):\n",
    "        super(TransformerDecoder, self).__init__()\n",
    "        self.att1 = MultiHeadAttention(num_heads=num_heads, key_dim=embed_dim)\n",
    "        self.att2 = MultiHeadAttention(num_heads=num_heads, key_dim=embed_dim)\n",
    "        self.ffn = tf.keras.Sequential([\n",
    "            Dense(ff_dim, activation='relu'), \n",
    "            Dense(embed_dim)\n",
    "        ])\n",
    "        self.layernorm1 = LayerNormalization(epsilon=1e-6)\n",
    "        self.layernorm2 = LayerNormalization(epsilon=1e-6)\n",
    "        self.layernorm3 = LayerNormalization(epsilon=1e-6)\n",
    "        self.dropout1 = Dropout(rate)\n",
    "        self.dropout2 = Dropout(rate)\n",
    "        self.dropout3 = Dropout(rate)\n",
    "\n",
    "    def call(self, enc_output, dec_input, training=False, look_ahead_mask=None, padding_mask=None):\n",
    "        att1_output = self.att1(dec_input, dec_input, attention_mask=look_ahead_mask)\n",
    "        att1_output = self.dropout1(att1_output, training=training)\n",
    "        out1 = self.layernorm1(dec_input + att1_output)\n",
    "        \n",
    "        att2_output = self.att2(out1, enc_output, attention_mask=padding_mask)\n",
    "        att2_output = self.dropout2(att2_output, training=training)\n",
    "        out2 = self.layernorm2(out1 + att2_output)\n",
    "        \n",
    "        ffn_output = self.ffn(out2)\n",
    "        ffn_output = self.dropout3(ffn_output, training=training)\n",
    "        return self.layernorm3(out2 + ffn_output)\n",
    "\n",
    "# Define Transformer Chatbot Model\n",
    "class TransformerChatbot(Model):\n",
    "    def __init__(self, num_tokens, max_len, embed_dim, num_heads, ff_dim, rate=0.1):\n",
    "        super(TransformerChatbot, self).__init__()\n",
    "        self.token_emb = Embedding(num_tokens, embed_dim)\n",
    "        self.position_emb_encoder = Embedding(max_len, embed_dim)\n",
    "        self.position_emb_decoder = Embedding(max_len, embed_dim)\n",
    "        self.encoder = TransformerEncoder(embed_dim, num_heads, ff_dim, rate)\n",
    "        self.decoder = TransformerDecoder(embed_dim, num_heads, ff_dim, rate)\n",
    "        self.final_layer = Dense(num_tokens, activation=\"softmax\")\n",
    "        self.masking = Masking(mask_value=0)\n",
    "\n",
    "    def create_padding_mask(self, seq):\n",
    "        seq = tf.cast(tf.math.equal(seq, 0), tf.float32)\n",
    "        return seq[:, tf.newaxis, tf.newaxis, :]  # add extra dimensions to add the padding to the attention logits\n",
    "\n",
    "    def call(self, inputs, training=False):\n",
    "        encoder_input, decoder_input = inputs\n",
    "\n",
    "        # Apply masking\n",
    "        encoder_input = self.masking(encoder_input)\n",
    "        decoder_input = self.masking(decoder_input)\n",
    "\n",
    "        encoder_positions = tf.range(start=0, limit=tf.shape(encoder_input)[1], delta=1)\n",
    "        decoder_positions = tf.range(start=0, limit=tf.shape(decoder_input)[1], delta=1)\n",
    "\n",
    "        enc_pos = self.position_emb_encoder(encoder_positions)\n",
    "        dec_pos = self.position_emb_decoder(decoder_positions)\n",
    "\n",
    "        enc_emb = self.token_emb(encoder_input) + enc_pos\n",
    "        dec_emb = self.token_emb(decoder_input) + dec_pos\n",
    "\n",
    "        padding_mask = self.create_padding_mask(encoder_input)\n",
    "        look_ahead_mask = self.create_padding_mask(decoder_input)\n",
    "\n",
    "        encoder_output = self.encoder(enc_emb, training=training, mask=padding_mask)\n",
    "        decoder_output = self.decoder(encoder_output, dec_emb, training=training, look_ahead_mask=look_ahead_mask, padding_mask=padding_mask)\n",
    "\n",
    "        return self.final_layer(decoder_output)\n",
    "\n",
    "# Parameters\n",
    "num_tokens = len(tokenizer.word_index) + 1\n",
    "max_len_input = encoder_input_data.shape[1]\n",
    "max_len_output = decoder_input_data.shape[1]\n",
    "embed_dim = 512  # Embedding size for each token\n",
    "num_heads = 8   # Number of attention heads\n",
    "ff_dim = 1024     # Size of the hidden layer in feed-forward network inside transformer\n",
    "\n",
    "# Instantiate the model\n",
    "transformer_chatbot = TransformerChatbot(num_tokens, max(max_len_input, max_len_output), embed_dim, num_heads, ff_dim)\n",
    "\n",
    "# Compile the model\n",
    "transformer_chatbot.compile(optimizer='adam', loss='sparse_categorical_crossentropy')\n",
    "\n",
    "# Define a model checkpoint callback\n",
    "checkpoint_callback = ModelCheckpoint(\n",
    "    filepath='transformer_chatbot_.h5',\n",
    "    save_weights_only=True,\n",
    "    save_best_only=True,\n",
    "    monitor='val_loss',\n",
    "    verbose=1\n",
    ")\n"
   ]
  },
  {
   "cell_type": "code",
   "execution_count": 15,
   "id": "ba5bf432-c161-488e-9c8a-79baf3f5ad27",
   "metadata": {},
   "outputs": [
    {
     "name": "stdout",
     "output_type": "stream",
     "text": [
      "embedding True\n",
      "embedding_1 True\n",
      "embedding_2 True\n",
      "transformer_encoder True\n",
      "transformer_decoder True\n",
      "dense_4 True\n",
      "masking True\n"
     ]
    }
   ],
   "source": [
    "for layer in transformer_chatbot.layers:\n",
    "    print(layer.name, layer.trainable)\n"
   ]
  },
  {
   "cell_type": "markdown",
   "id": "fe71e88b-5724-4c14-ada4-e7f7f2ceb383",
   "metadata": {},
   "source": [
    "### Train the Model"
   ]
  },
  {
   "cell_type": "code",
   "execution_count": 16,
   "id": "e86cf1fe-85e1-4142-8c54-04d178b499e2",
   "metadata": {},
   "outputs": [
    {
     "name": "stdout",
     "output_type": "stream",
     "text": [
      "Epoch 1/10\n",
      "1124/1124 [==============================] - 160s 139ms/step - loss: 3.8319 - val_loss: 3.4327\n",
      "Epoch 2/10\n",
      "1124/1124 [==============================] - 178s 158ms/step - loss: 3.3222 - val_loss: 3.2496\n",
      "Epoch 3/10\n",
      "1124/1124 [==============================] - 181s 161ms/step - loss: 3.1773 - val_loss: 3.1611\n",
      "Epoch 4/10\n",
      "1124/1124 [==============================] - 195s 173ms/step - loss: 3.0982 - val_loss: 3.0958\n",
      "Epoch 5/10\n",
      "1124/1124 [==============================] - 218s 194ms/step - loss: 3.0163 - val_loss: 3.0024\n",
      "Epoch 6/10\n",
      "1124/1124 [==============================] - 262s 233ms/step - loss: 3.3255 - val_loss: 3.2303\n",
      "Epoch 7/10\n",
      "1124/1124 [==============================] - 305s 271ms/step - loss: 3.1080 - val_loss: 3.1016\n",
      "Epoch 8/10\n",
      "1124/1124 [==============================] - 332s 295ms/step - loss: 3.0315 - val_loss: 3.0755\n",
      "Epoch 9/10\n",
      "1124/1124 [==============================] - 379s 337ms/step - loss: 2.9810 - val_loss: 3.0325\n",
      "Epoch 10/10\n",
      "1124/1124 [==============================] - 360s 320ms/step - loss: 2.9802 - val_loss: 3.0400\n",
      "Model training completed.\n",
      "Model: \"transformer_chatbot\"\n",
      "_________________________________________________________________\n",
      " Layer (type)                Output Shape              Param #   \n",
      "=================================================================\n",
      " embedding (Embedding)       multiple                  7877120   \n",
      "                                                                 \n",
      " embedding_1 (Embedding)     multiple                  8192      \n",
      "                                                                 \n",
      " embedding_2 (Embedding)     multiple                  8192      \n",
      "                                                                 \n",
      " transformer_encoder (Transf  multiple                 9453568   \n",
      " ormerEncoder)                                                   \n",
      "                                                                 \n",
      " transformer_decoder (Transf  multiple                 17856000  \n",
      " ormerDecoder)                                                   \n",
      "                                                                 \n",
      " dense_4 (Dense)             multiple                  7892505   \n",
      "                                                                 \n",
      " masking (Masking)           multiple                  0         \n",
      "                                                                 \n",
      "=================================================================\n",
      "Total params: 43,095,577\n",
      "Trainable params: 43,095,577\n",
      "Non-trainable params: 0\n",
      "_________________________________________________________________\n"
     ]
    }
   ],
   "source": [
    "# Training the model\n",
    "history = transformer_chatbot.fit(\n",
    "    [encoder_input_data, decoder_input_data],\n",
    "    decoder_output_data[:, :, np.newaxis],  # ensure targets are properly shaped\n",
    "    batch_size=64,\n",
    "    epochs=10,  \n",
    "    validation_split=0.2,\n",
    "    # callbacks=[checkpoint_callback]\n",
    ")\n",
    "print(\"Model training completed.\")\n",
    "transformer_chatbot.summary()"
   ]
  },
  {
   "cell_type": "code",
   "execution_count": 17,
   "id": "48460ad4-38ee-4056-9027-5d5eda3f7463",
   "metadata": {},
   "outputs": [
    {
     "name": "stdout",
     "output_type": "stream",
     "text": [
      "Thu May 23 11:02:29 2024       \n",
      "+-----------------------------------------------------------------------------------------+\n",
      "| NVIDIA-SMI 551.61                 Driver Version: 551.61         CUDA Version: 12.4     |\n",
      "|-----------------------------------------+------------------------+----------------------+\n",
      "| GPU  Name                     TCC/WDDM  | Bus-Id          Disp.A | Volatile Uncorr. ECC |\n",
      "| Fan  Temp   Perf          Pwr:Usage/Cap |           Memory-Usage | GPU-Util  Compute M. |\n",
      "|                                         |                        |               MIG M. |\n",
      "|=========================================+========================+======================|\n",
      "|   0  NVIDIA GeForce GTX 1660 ...  WDDM  |   00000000:01:00.0  On |                  N/A |\n",
      "| N/A   90C    P0             28W /   60W |    5594MiB /   6144MiB |     88%      Default |\n",
      "|                                         |                        |                  N/A |\n",
      "+-----------------------------------------+------------------------+----------------------+\n",
      "                                                                                         \n",
      "+-----------------------------------------------------------------------------------------+\n",
      "| Processes:                                                                              |\n",
      "|  GPU   GI   CI        PID   Type   Process name                              GPU Memory |\n",
      "|        ID   ID                                                               Usage      |\n",
      "|=========================================================================================|\n",
      "|    0   N/A  N/A      2516      C   ...ensorflow_cuda_gpu_py310\\python.exe      N/A      |\n",
      "|    0   N/A  N/A      5388      C   ...ensorflow_cuda_gpu_py310\\python.exe      N/A      |\n",
      "|    0   N/A  N/A      5736    C+G   ...GeForce Experience\\NVIDIA Share.exe      N/A      |\n",
      "|    0   N/A  N/A      5808    C+G   ...siveControlPanel\\SystemSettings.exe      N/A      |\n",
      "|    0   N/A  N/A      7676    C+G   ...oogle\\Chrome\\Application\\chrome.exe      N/A      |\n",
      "|    0   N/A  N/A     10772    C+G   C:\\Windows\\explorer.exe                     N/A      |\n",
      "|    0   N/A  N/A     11832    C+G   ...__8wekyb3d8bbwe\\Microsoft.Notes.exe      N/A      |\n",
      "|    0   N/A  N/A     11980    C+G   ...nt.CBS_cw5n1h2txyewy\\SearchHost.exe      N/A      |\n",
      "|    0   N/A  N/A     12004    C+G   ...2txyewy\\StartMenuExperienceHost.exe      N/A      |\n",
      "|    0   N/A  N/A     12456      C   ...ensorflow_cuda_gpu_py310\\python.exe      N/A      |\n",
      "|    0   N/A  N/A     13628    C+G   ...5n1h2txyewy\\ShellExperienceHost.exe      N/A      |\n",
      "|    0   N/A  N/A     15388    C+G   ...m Files\\Mozilla Firefox\\firefox.exe      N/A      |\n",
      "|    0   N/A  N/A     15664    C+G   ...l\\Microsoft\\Teams\\current\\Teams.exe      N/A      |\n",
      "|    0   N/A  N/A     16608    C+G   ...l\\Microsoft\\Teams\\current\\Teams.exe      N/A      |\n",
      "|    0   N/A  N/A     17060    C+G   ...crosoft\\Edge\\Application\\msedge.exe      N/A      |\n",
      "|    0   N/A  N/A     17360    C+G   ...al\\Programs\\Messenger\\Messenger.exe      N/A      |\n",
      "|    0   N/A  N/A     17924    C+G   ...m Files\\Mozilla Firefox\\firefox.exe      N/A      |\n",
      "|    0   N/A  N/A     18688    C+G   ...on\\124.0.2478.97\\msedgewebview2.exe      N/A      |\n",
      "|    0   N/A  N/A     21132    C+G   ...ekyb3d8bbwe\\PhoneExperienceHost.exe      N/A      |\n",
      "+-----------------------------------------------------------------------------------------+\n"
     ]
    }
   ],
   "source": [
    "# Check GPU memory usage\n",
    "!nvidia-smi\n"
   ]
  },
  {
   "cell_type": "code",
   "execution_count": 18,
   "id": "cda22363-777c-4bac-b55c-b8ba47fd7175",
   "metadata": {},
   "outputs": [
    {
     "data": {
      "image/png": "[encoded data removed]",
      "text/plain": [
       "<Figure size 640x480 with 1 Axes>"
      ]
     },
     "metadata": {},
     "output_type": "display_data"
    }
   ],
   "source": [
    "# Visualize training history\n",
    "plt.plot(history.history['loss'], label='Training Loss')\n",
    "plt.plot(history.history['val_loss'], label='Validation Loss')\n",
    "plt.title('Training and Validation Loss')\n",
    "plt.xlabel('Epochs')\n",
    "plt.ylabel('Loss')\n",
    "plt.legend()\n",
    "plt.show()"
   ]
  },
  {
   "cell_type": "markdown",
   "id": "a5c39826-1839-4bf9-9f32-9fc66393e49c",
   "metadata": {},
   "source": [
    "### Inference with Beam Search"
   ]
  },
  {
   "cell_type": "code",
   "execution_count": 19,
   "id": "084c9088-7775-4318-81f1-00909b13434b",
   "metadata": {},
   "outputs": [
    {
     "name": "stdout",
     "output_type": "stream",
     "text": [
      "1 2\n"
     ]
    }
   ],
   "source": [
    "print(tokenizer.word_index['<START>'], tokenizer.word_index['<END>'])"
   ]
  },
  {
   "cell_type": "code",
   "execution_count": 20,
   "id": "69ba8439-f79d-4b17-b107-f96d61e72dd2",
   "metadata": {},
   "outputs": [],
   "source": [
    "reverse_target_token_index = {index: word for word, index in tokenizer.word_index.items()}\n",
    "\n",
    "def beam_search_decode(input_seq, beam_width=3, max_decoder_seq_length=15):\n",
    "    start_token_index = tokenizer.word_index['<START>']\n",
    "    end_token_index = tokenizer.word_index['<END>']\n",
    "    input_seq = tf.convert_to_tensor(input_seq, dtype=tf.int32)\n",
    "\n",
    "    # Prepare encoder input\n",
    "    positions = tf.range(start=0, limit=tf.shape(input_seq)[1], delta=1)\n",
    "    enc_pos = transformer_chatbot.position_emb_encoder(positions)\n",
    "    enc_emb = transformer_chatbot.token_emb(input_seq) + enc_pos\n",
    "    encoder_output = transformer_chatbot.encoder(enc_emb, training=False)\n",
    "\n",
    "    # Initialize the beams\n",
    "    beams = [(np.array([[start_token_index]]), 0.0)]  # (sequence, cumulative log probability)\n",
    "\n",
    "    for _ in range(max_decoder_seq_length):\n",
    "        all_candidates = []\n",
    "        for seq, score in beams:\n",
    "            if seq[0, -1] == end_token_index:\n",
    "                all_candidates.append((seq, score))\n",
    "                continue\n",
    "\n",
    "            # Prepare decoder input\n",
    "            dec_positions = tf.range(start=0, limit=tf.shape(seq)[1], delta=1)\n",
    "            dec_pos = transformer_chatbot.position_emb_decoder(dec_positions)\n",
    "            dec_emb = transformer_chatbot.token_emb(tf.convert_to_tensor(seq, dtype=tf.int32)) + dec_pos\n",
    "            decoder_output = transformer_chatbot.decoder(encoder_output, dec_emb, training=False)\n",
    "            output_tokens = transformer_chatbot.final_layer(decoder_output)\n",
    "\n",
    "            # Select the top beam_width token predictions from the last time step\n",
    "            top_k_indices = tf.math.top_k(output_tokens[0, -1], k=beam_width).indices.numpy()\n",
    "\n",
    "            for idx in top_k_indices:\n",
    "                new_seq = np.append(seq, [[idx]], axis=1)\n",
    "                new_score = score + np.log(output_tokens[0, -1, idx].numpy())\n",
    "                all_candidates.append((new_seq, new_score))\n",
    "\n",
    "        # Keep top beam_width sequences\n",
    "        beams = sorted(all_candidates, key=lambda x: x[1], reverse=True)[:beam_width]\n",
    "\n",
    "        # If all top sequences end with the <end> token, break the loop\n",
    "        if all(seq[0, -1] == end_token_index for seq, _ in beams):\n",
    "            break\n",
    "\n",
    "    best_seq, _ = beams[0]\n",
    "    decoded_sentence = ' '.join([reverse_target_token_index.get(idx, '') for idx in best_seq[0] if idx not in {start_token_index, end_token_index, 0}])\n",
    "    return decoded_sentence\n"
   ]
  },
  {
   "cell_type": "code",
   "execution_count": 21,
   "id": "02b68f62-8d82-4ea3-9061-cb798fcef3f5",
   "metadata": {},
   "outputs": [
    {
     "name": "stdout",
     "output_type": "stream",
     "text": [
      "Input: How are you doing today?\n",
      "Response: think not have to go to go to go to go to go to the\n",
      "--------------------------------------------------\n",
      "Input: What is your name?\n",
      "Response: think not have to go to go to go to go to go to the\n",
      "--------------------------------------------------\n",
      "Input: Can you help me with my homework?\n",
      "Response: think not you can do not you can not you can not you will be\n",
      "--------------------------------------------------\n",
      "Input: What is the weather like?\n",
      "Response: think not you can do not be so i am i think i think i\n",
      "--------------------------------------------------\n",
      "Input: Tell me a joke.\n",
      "Response: think not have to go to go to go to go to go to the\n",
      "--------------------------------------------------\n",
      "Input: Who is the president of the United States?\n",
      "Response: think not you can do not be so i am i think i think i\n",
      "--------------------------------------------------\n",
      "Input: What is the capital of France?\n",
      "Response: think not you can do not you can not you can not you can not\n",
      "--------------------------------------------------\n",
      "Input: Do you like pizza?\n",
      "Response: think not you can do not be so i am i think i think i\n",
      "--------------------------------------------------\n",
      "Input: What is your favorite color?\n",
      "Response: think not have to go to go to go to go to go to the\n",
      "--------------------------------------------------\n",
      "Input: Goodbye!\n",
      "Response: think not have to go to go to go to go to go to the\n",
      "--------------------------------------------------\n"
     ]
    }
   ],
   "source": [
    "test_examples = [\n",
    "    \"How are you doing today?\",\n",
    "    \"What is your name?\",\n",
    "    \"Can you help me with my homework?\",\n",
    "    \"What is the weather like?\",\n",
    "    \"Tell me a joke.\",\n",
    "    \"Who is the president of the United States?\",\n",
    "    \"What is the capital of France?\",\n",
    "    \"Do you like pizza?\",\n",
    "    \"What is your favorite color?\",\n",
    "    \"Goodbye!\"\n",
    "]\n",
    "\n",
    "# Preprocess input text\n",
    "input_text = [preprocess_text(text) for text in test_examples]\n",
    "# print(f\"Preprocessed text: {input_text}\")\n",
    "\n",
    "# Tokenize and pad the test examples\n",
    "test_sequences = tokenizer.texts_to_sequences(input_text)\n",
    "# print(f\"Tokenizer sequences: {test_sequences}\")\n",
    "padded_test_sequences = pad_sequences(test_sequences, maxlen=max_length, padding='pre', truncating='post')\n",
    "# print(f\"Padded sequences: {padded_test_sequences}\")\n",
    "\n",
    "# Generate responses with beam search\n",
    "for test_seq in padded_test_sequences:\n",
    "    input_seq = np.array([test_seq])\n",
    "    response = beam_search_decode(input_seq, beam_width=3, max_decoder_seq_length=max_len_output)\n",
    "    print(f\"Input: {test_examples[padded_test_sequences.tolist().index(test_seq.tolist())]}\")\n",
    "    print(f\"Response: {response}\")\n",
    "    print(\"-\" * 50)"
   ]
  },
  {
   "cell_type": "markdown",
   "id": "9bf76016-734f-4a74-bd01-a375967eb1cb",
   "metadata": {},
   "source": [
    "### Save the model"
   ]
  },
  {
   "cell_type": "code",
   "execution_count": 23,
   "id": "1e1a26fa-9bf6-4477-afeb-72746e811bad",
   "metadata": {},
   "outputs": [
    {
     "ename": "NotImplementedError",
     "evalue": "Saving the model to HDF5 format requires the model to be a Functional model or a Sequential model. It does not work for subclassed models, because such models are defined via the body of a Python method, which isn't safely serializable. Consider saving to the Tensorflow SavedModel format (by setting save_format=\"tf\") or using `save_weights`.",
     "output_type": "error",
     "traceback": [
      "\u001b[1;31m---------------------------------------------------------------------------\u001b[0m",
      "\u001b[1;31mNotImplementedError\u001b[0m                       Traceback (most recent call last)",
      "Cell \u001b[1;32mIn[23], line 4\u001b[0m\n\u001b[0;32m      2\u001b[0m \u001b[38;5;66;03m# Saving H5\u001b[39;00m\n\u001b[0;32m      3\u001b[0m file_path_h5 \u001b[38;5;241m=\u001b[39m os\u001b[38;5;241m.\u001b[39mpath\u001b[38;5;241m.\u001b[39mjoin(data_dir, \u001b[38;5;124m'\u001b[39m\u001b[38;5;124ms2s_model_dd_tf210_transformer.h5\u001b[39m\u001b[38;5;124m'\u001b[39m)\n\u001b[1;32m----> 4\u001b[0m \u001b[43mtransformer_chatbot\u001b[49m\u001b[38;5;241;43m.\u001b[39;49m\u001b[43msave\u001b[49m\u001b[43m(\u001b[49m\u001b[43mfile_path_h5\u001b[49m\u001b[43m)\u001b[49m\n\u001b[0;32m      5\u001b[0m \u001b[38;5;66;03m# Saving .keras\u001b[39;00m\n\u001b[0;32m      6\u001b[0m keras_file_path \u001b[38;5;241m=\u001b[39m os\u001b[38;5;241m.\u001b[39mpath\u001b[38;5;241m.\u001b[39mjoin(data_dir, \u001b[38;5;124m'\u001b[39m\u001b[38;5;124ms2s_model_dd_tf210_transformer.keras\u001b[39m\u001b[38;5;124m'\u001b[39m)\n",
      "File \u001b[1;32m~\\anaconda3\\envs\\tensorflow_cuda_gpu_py310\\lib\\site-packages\\keras\\utils\\traceback_utils.py:70\u001b[0m, in \u001b[0;36mfilter_traceback.<locals>.error_handler\u001b[1;34m(*args, **kwargs)\u001b[0m\n\u001b[0;32m     67\u001b[0m     filtered_tb \u001b[38;5;241m=\u001b[39m _process_traceback_frames(e\u001b[38;5;241m.\u001b[39m__traceback__)\n\u001b[0;32m     68\u001b[0m     \u001b[38;5;66;03m# To get the full stack trace, call:\u001b[39;00m\n\u001b[0;32m     69\u001b[0m     \u001b[38;5;66;03m# `tf.debugging.disable_traceback_filtering()`\u001b[39;00m\n\u001b[1;32m---> 70\u001b[0m     \u001b[38;5;28;01mraise\u001b[39;00m e\u001b[38;5;241m.\u001b[39mwith_traceback(filtered_tb) \u001b[38;5;28;01mfrom\u001b[39;00m \u001b[38;5;28;01mNone\u001b[39;00m\n\u001b[0;32m     71\u001b[0m \u001b[38;5;28;01mfinally\u001b[39;00m:\n\u001b[0;32m     72\u001b[0m     \u001b[38;5;28;01mdel\u001b[39;00m filtered_tb\n",
      "File \u001b[1;32m~\\anaconda3\\envs\\tensorflow_cuda_gpu_py310\\lib\\site-packages\\keras\\saving\\save.py:153\u001b[0m, in \u001b[0;36msave_model\u001b[1;34m(model, filepath, overwrite, include_optimizer, save_format, signatures, options, save_traces)\u001b[0m\n\u001b[0;32m    144\u001b[0m \u001b[38;5;28;01mif\u001b[39;00m (\n\u001b[0;32m    145\u001b[0m     save_format \u001b[38;5;241m==\u001b[39m \u001b[38;5;124m\"\u001b[39m\u001b[38;5;124mh5\u001b[39m\u001b[38;5;124m\"\u001b[39m\n\u001b[0;32m    146\u001b[0m     \u001b[38;5;129;01mor\u001b[39;00m (h5py \u001b[38;5;129;01mis\u001b[39;00m \u001b[38;5;129;01mnot\u001b[39;00m \u001b[38;5;28;01mNone\u001b[39;00m \u001b[38;5;129;01mand\u001b[39;00m \u001b[38;5;28misinstance\u001b[39m(filepath, h5py\u001b[38;5;241m.\u001b[39mFile))\n\u001b[0;32m    147\u001b[0m     \u001b[38;5;129;01mor\u001b[39;00m saving_utils\u001b[38;5;241m.\u001b[39mis_hdf5_filepath(filepath)\n\u001b[0;32m    148\u001b[0m ):\n\u001b[0;32m    149\u001b[0m     \u001b[38;5;66;03m# TODO(b/130258301): add utility method for detecting model type.\u001b[39;00m\n\u001b[0;32m    150\u001b[0m     \u001b[38;5;28;01mif\u001b[39;00m \u001b[38;5;129;01mnot\u001b[39;00m model\u001b[38;5;241m.\u001b[39m_is_graph_network \u001b[38;5;129;01mand\u001b[39;00m \u001b[38;5;129;01mnot\u001b[39;00m \u001b[38;5;28misinstance\u001b[39m(\n\u001b[0;32m    151\u001b[0m         model, sequential\u001b[38;5;241m.\u001b[39mSequential\n\u001b[0;32m    152\u001b[0m     ):\n\u001b[1;32m--> 153\u001b[0m         \u001b[38;5;28;01mraise\u001b[39;00m \u001b[38;5;167;01mNotImplementedError\u001b[39;00m(\n\u001b[0;32m    154\u001b[0m             \u001b[38;5;124m\"\u001b[39m\u001b[38;5;124mSaving the model to HDF5 format requires the model to be a \u001b[39m\u001b[38;5;124m\"\u001b[39m\n\u001b[0;32m    155\u001b[0m             \u001b[38;5;124m\"\u001b[39m\u001b[38;5;124mFunctional model or a Sequential model. It does not work for \u001b[39m\u001b[38;5;124m\"\u001b[39m\n\u001b[0;32m    156\u001b[0m             \u001b[38;5;124m\"\u001b[39m\u001b[38;5;124msubclassed models, because such models are defined via the \u001b[39m\u001b[38;5;124m\"\u001b[39m\n\u001b[0;32m    157\u001b[0m             \u001b[38;5;124m\"\u001b[39m\u001b[38;5;124mbody of a Python method, which isn\u001b[39m\u001b[38;5;124m'\u001b[39m\u001b[38;5;124mt safely serializable. \u001b[39m\u001b[38;5;124m\"\u001b[39m\n\u001b[0;32m    158\u001b[0m             \u001b[38;5;124m\"\u001b[39m\u001b[38;5;124mConsider saving to the Tensorflow SavedModel format (by \u001b[39m\u001b[38;5;124m\"\u001b[39m\n\u001b[0;32m    159\u001b[0m             \u001b[38;5;124m'\u001b[39m\u001b[38;5;124msetting save_format=\u001b[39m\u001b[38;5;124m\"\u001b[39m\u001b[38;5;124mtf\u001b[39m\u001b[38;5;124m\"\u001b[39m\u001b[38;5;124m) or using `save_weights`.\u001b[39m\u001b[38;5;124m'\u001b[39m\n\u001b[0;32m    160\u001b[0m         )\n\u001b[0;32m    161\u001b[0m     hdf5_format\u001b[38;5;241m.\u001b[39msave_model_to_hdf5(\n\u001b[0;32m    162\u001b[0m         model, filepath, overwrite, include_optimizer\n\u001b[0;32m    163\u001b[0m     )\n\u001b[0;32m    164\u001b[0m \u001b[38;5;28;01melse\u001b[39;00m:\n",
      "\u001b[1;31mNotImplementedError\u001b[0m: Saving the model to HDF5 format requires the model to be a Functional model or a Sequential model. It does not work for subclassed models, because such models are defined via the body of a Python method, which isn't safely serializable. Consider saving to the Tensorflow SavedModel format (by setting save_format=\"tf\") or using `save_weights`."
     ]
    }
   ],
   "source": [
    "data_dir = os.path.join(os.getcwd(), 'data')\n",
    "# Saving H5\n",
    "file_path_h5 = os.path.join(data_dir, 's2s_model_dd_tf210_transformer.h5')\n",
    "transformer_chatbot.save(file_path_h5)\n",
    "# Saving .keras\n",
    "keras_file_path = os.path.join(data_dir, 's2s_model_dd_tf210_transformer.keras')\n",
    "transformer_chatbot.save(keras_file_path)"
   ]
  },
  {
   "cell_type": "markdown",
   "id": "51d4e44a-16fd-4693-a72a-ce2be1d291c9",
   "metadata": {},
   "source": [
    "### Save the Weights"
   ]
  },
  {
   "cell_type": "code",
   "execution_count": null,
   "id": "915cbad1-d71a-4caa-bbcd-ccd336cc2978",
   "metadata": {},
   "outputs": [],
   "source": [
    "weights_path = os.path.join(data_dir, 's2s_model_dd_tf210_weights_transformer.h5')\n",
    "transformer_chatbot.save_weights(weights_path)"
   ]
  }
 ],
 "metadata": {
  "kernelspec": {
   "display_name": "Python 3 (ipykernel)",
   "language": "python",
   "name": "python3"
  },
  "language_info": {
   "codemirror_mode": {
    "name": "ipython",
    "version": 3
   },
   "file_extension": ".py",
   "mimetype": "text/x-python",
   "name": "python",
   "nbconvert_exporter": "python",
   "pygments_lexer": "ipython3",
   "version": "3.10.14"
  }
 },
 "nbformat": 4,
 "nbformat_minor": 5
}
